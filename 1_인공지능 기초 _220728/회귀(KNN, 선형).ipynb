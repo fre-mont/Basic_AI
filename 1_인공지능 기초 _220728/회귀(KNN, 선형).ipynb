{
 "cells": [
  {
   "cell_type": "markdown",
   "id": "8a9347cf",
   "metadata": {},
   "source": [
    "### 회귀 모델\n",
    "- 지도학습 : 정답데이터 필요\n",
    "- 회귀 <=> 예측\n",
    "- > KNN 회귀 : 분류와 동일하게 임의의 데이터의 예측값을 예측하기 위해서 K개의 이웃의 수치데이터를 바탕으로 평균을 내어 예측하는 방법\n",
    "- > 클래스 중 하나로 분류하는 것이 아니라 임의의 어떤 '숫자'를 예측하는 문제\n",
    "- > 주어진 문제 : petal length로 petal width 예측해보자 "
   ]
  },
  {
   "cell_type": "markdown",
   "id": "99675cda",
   "metadata": {},
   "source": [
    "### 라이브러리 불러오기 "
   ]
  },
  {
   "cell_type": "code",
   "execution_count": 80,
   "id": "601a44d1",
   "metadata": {},
   "outputs": [],
   "source": [
    "# 라이브러리 불러오기\n",
    "import numpy as np\n",
    "import pandas as pd\n",
    "\n",
    "# 데이터 시각화를 위한 라이브러리\n",
    "import matplotlib.pyplot as plt  \n",
    "import seaborn as sns\n"
   ]
  },
  {
   "cell_type": "markdown",
   "id": "82f8c94d",
   "metadata": {},
   "source": [
    "### 1. 데이터 로드하기"
   ]
  },
  {
   "cell_type": "code",
   "execution_count": 81,
   "id": "e3e5b1f3",
   "metadata": {},
   "outputs": [
    {
     "name": "stdout",
     "output_type": "stream",
     "text": [
      "<class 'sklearn.utils.Bunch'>\n"
     ]
    }
   ],
   "source": [
    "# iris 붓꽃 데이터 로드\n",
    "from sklearn.datasets import load_iris\n",
    "iris = load_iris()\n",
    "\n",
    "print(type(iris))"
   ]
  },
  {
   "cell_type": "markdown",
   "id": "7dfa9ff2",
   "metadata": {},
   "source": [
    "### 2. 데이터 탐색하기 "
   ]
  },
  {
   "cell_type": "markdown",
   "id": "d7601876",
   "metadata": {},
   "source": [
    "### 데이터 전처리\n",
    "- 분류모델은 지도학습으로 **정답**이 반드시 필요함\n",
    "- 학습을 위한 데이터 준비\n"
   ]
  },
  {
   "cell_type": "code",
   "execution_count": 82,
   "id": "16f925d1",
   "metadata": {},
   "outputs": [
    {
     "name": "stdout",
     "output_type": "stream",
     "text": [
      "dict_keys(['data', 'target', 'frame', 'target_names', 'DESCR', 'feature_names', 'filename'])\n",
      "[[5.1 3.5 1.4 0.2]\n",
      " [4.9 3.  1.4 0.2]\n",
      " [4.7 3.2 1.3 0.2]\n",
      " [4.6 3.1 1.5 0.2]\n",
      " [5.  3.6 1.4 0.2]]\n",
      "['setosa' 'versicolor' 'virginica']\n"
     ]
    }
   ],
   "source": [
    "print(iris.keys())\n",
    "\n",
    "features = iris['data']\n",
    "print(features[:5])\n",
    "\n",
    "feature_names = iris['feature_names']\n",
    "print(iris['target_names'])\n"
   ]
  },
  {
   "cell_type": "markdown",
   "id": "d8e29603",
   "metadata": {},
   "source": [
    "### 데이터셋을 DataFrame으로 변환\n",
    "- pandas 사용 "
   ]
  },
  {
   "cell_type": "code",
   "execution_count": 83,
   "id": "7a962761",
   "metadata": {},
   "outputs": [
    {
     "data": {
      "text/html": [
       "<div>\n",
       "<style scoped>\n",
       "    .dataframe tbody tr th:only-of-type {\n",
       "        vertical-align: middle;\n",
       "    }\n",
       "\n",
       "    .dataframe tbody tr th {\n",
       "        vertical-align: top;\n",
       "    }\n",
       "\n",
       "    .dataframe thead th {\n",
       "        text-align: right;\n",
       "    }\n",
       "</style>\n",
       "<table border=\"1\" class=\"dataframe\">\n",
       "  <thead>\n",
       "    <tr style=\"text-align: right;\">\n",
       "      <th></th>\n",
       "      <th>sepal length (cm)</th>\n",
       "      <th>sepal width (cm)</th>\n",
       "      <th>petal length (cm)</th>\n",
       "      <th>petal width (cm)</th>\n",
       "    </tr>\n",
       "  </thead>\n",
       "  <tbody>\n",
       "    <tr>\n",
       "      <th>0</th>\n",
       "      <td>5.1</td>\n",
       "      <td>3.5</td>\n",
       "      <td>1.4</td>\n",
       "      <td>0.2</td>\n",
       "    </tr>\n",
       "    <tr>\n",
       "      <th>1</th>\n",
       "      <td>4.9</td>\n",
       "      <td>3.0</td>\n",
       "      <td>1.4</td>\n",
       "      <td>0.2</td>\n",
       "    </tr>\n",
       "    <tr>\n",
       "      <th>2</th>\n",
       "      <td>4.7</td>\n",
       "      <td>3.2</td>\n",
       "      <td>1.3</td>\n",
       "      <td>0.2</td>\n",
       "    </tr>\n",
       "    <tr>\n",
       "      <th>3</th>\n",
       "      <td>4.6</td>\n",
       "      <td>3.1</td>\n",
       "      <td>1.5</td>\n",
       "      <td>0.2</td>\n",
       "    </tr>\n",
       "    <tr>\n",
       "      <th>4</th>\n",
       "      <td>5.0</td>\n",
       "      <td>3.6</td>\n",
       "      <td>1.4</td>\n",
       "      <td>0.2</td>\n",
       "    </tr>\n",
       "  </tbody>\n",
       "</table>\n",
       "</div>"
      ],
      "text/plain": [
       "   sepal length (cm)  sepal width (cm)  petal length (cm)  petal width (cm)\n",
       "0                5.1               3.5                1.4               0.2\n",
       "1                4.9               3.0                1.4               0.2\n",
       "2                4.7               3.2                1.3               0.2\n",
       "3                4.6               3.1                1.5               0.2\n",
       "4                5.0               3.6                1.4               0.2"
      ]
     },
     "execution_count": 83,
     "metadata": {},
     "output_type": "execute_result"
    }
   ],
   "source": [
    "type(features)   # 현재 numpy \n",
    "df = pd.DataFrame(features, columns=feature_names)\n",
    "df.head()    # 상위 5개의 데이터값 반환\n"
   ]
  },
  {
   "cell_type": "markdown",
   "id": "1dcd5b1b",
   "metadata": {},
   "source": [
    "#### Feature Data : Petal length\n",
    "#### Label Data : Petal width"
   ]
  },
  {
   "cell_type": "code",
   "execution_count": 84,
   "id": "944a8dd7",
   "metadata": {},
   "outputs": [],
   "source": [
    "data = df.drop(columns=['sepal length (cm)', 'sepal width (cm)'])\n",
    "data.head()\n",
    "\n",
    "X = data['petal length (cm)']\n",
    "y = data['petal width (cm)']\n"
   ]
  },
  {
   "cell_type": "code",
   "execution_count": 85,
   "id": "67881f83",
   "metadata": {},
   "outputs": [
    {
     "name": "stdout",
     "output_type": "stream",
     "text": [
      "<class 'pandas.core.series.Series'>\n",
      "<class 'pandas.core.series.Series'>\n",
      "(150,)\n",
      "(150,)\n"
     ]
    }
   ],
   "source": [
    "print(type(X))\n",
    "print(type(y))\n",
    "\n",
    "print(X.shape)\n",
    "print(y.shape)\n"
   ]
  },
  {
   "cell_type": "code",
   "execution_count": 86,
   "id": "d909dda6",
   "metadata": {},
   "outputs": [
    {
     "data": {
      "image/png": "[encoded data removed]",
      "text/plain": [
       "<Figure size 432x288 with 1 Axes>"
      ]
     },
     "metadata": {
      "needs_background": "light"
     },
     "output_type": "display_data"
    }
   ],
   "source": [
    "# 양의 상관관계 : 길이가 길수록 폭이 넓어질 것으로 예측됨 \n",
    "plt.scatter(X,y)\n",
    "plt.xlabel('petal length')\n",
    "plt.ylabel('petal width')\n",
    "plt.show()\n"
   ]
  },
  {
   "cell_type": "markdown",
   "id": "64b3816c",
   "metadata": {},
   "source": [
    "### 데이터 전처리 \n",
    "- train(학습) / test(검증) 데이터 분리하기\n",
    " => 일반화된 모델을 만드는 것이 주목적이므로 학습(train)/검증(test) 데이터 분리가 중요함\n",
    "- 1. 학습데이터, 검증데이터 각각 특징(x)과 정답(y)으로 나눠지는 데이터를 만들기\n",
    "- 2. Scikit-learn의 train_test_split 이용하여 Train/Test 데이터 분리하기\n",
    "- 3. 데이터 분리 방법은 여러가지(7:3 or 8:2) => 클래스별로 분리해야함\n"
   ]
  },
  {
   "cell_type": "markdown",
   "id": "472388e3",
   "metadata": {},
   "source": [
    "scikit-learn 모듈 : 반드시 2차원 배열(행렬)값을 모델의 입력데이터로 사용\n",
    "- 만약 1차원 배열일 경우, numpy의 reshape()함수 사용하여 변형 "
   ]
  },
  {
   "cell_type": "code",
   "execution_count": 87,
   "id": "fb70b6ba",
   "metadata": {},
   "outputs": [],
   "source": [
    "# numpy로 변환\n",
    "X = np.array(X)\n",
    "y = np.array(y)\n"
   ]
  },
  {
   "cell_type": "code",
   "execution_count": 88,
   "id": "93def5f9",
   "metadata": {},
   "outputs": [],
   "source": [
    "from sklearn.model_selection import train_test_split\n"
   ]
  },
  {
   "cell_type": "code",
   "execution_count": 89,
   "id": "4f0da432",
   "metadata": {},
   "outputs": [
    {
     "name": "stdout",
     "output_type": "stream",
     "text": [
      "(150,)\n",
      "(150,)\n"
     ]
    }
   ],
   "source": [
    "print(X.shape)  # 특징 데이터(x)\n",
    "print(y.shape)  # 정답데이터 (y)\n"
   ]
  },
  {
   "cell_type": "code",
   "execution_count": 90,
   "id": "90516a34",
   "metadata": {},
   "outputs": [],
   "source": [
    "x_train, x_test, y_train, y_test = train_test_split(X, y, random_state=42)\n"
   ]
  },
  {
   "cell_type": "code",
   "execution_count": 91,
   "id": "2233c9ae",
   "metadata": {},
   "outputs": [
    {
     "name": "stdout",
     "output_type": "stream",
     "text": [
      "(112,) (38,)\n"
     ]
    }
   ],
   "source": [
    "print(x_train.shape, x_test.shape)  # 75 : 25"
   ]
  },
  {
   "cell_type": "code",
   "execution_count": 92,
   "id": "0c40245f",
   "metadata": {},
   "outputs": [
    {
     "name": "stdout",
     "output_type": "stream",
     "text": [
      "(112, 1)\n",
      "(38, 1)\n"
     ]
    }
   ],
   "source": [
    "# 여기서 -1은 무시하고(상관없고) 그 옆에 있는 숫자만 shape으로 맞춰라\n",
    "x_train = x_train.reshape(-1, 1)\n",
    "x_test = x_test.reshape(-1, 1)\n",
    "\n",
    "print(x_train.shape)\n",
    "print(x_test.shape)"
   ]
  },
  {
   "cell_type": "markdown",
   "id": "674f1b7f",
   "metadata": {},
   "source": [
    "### KNN 회귀 모델 생성\n"
   ]
  },
  {
   "cell_type": "code",
   "execution_count": 93,
   "id": "87c326e6",
   "metadata": {},
   "outputs": [],
   "source": [
    "# 회귀모델 사용\n",
    "from sklearn.neighbors import KNeighborsRegressor\n"
   ]
  },
  {
   "cell_type": "code",
   "execution_count": 94,
   "id": "d0a654a7",
   "metadata": {},
   "outputs": [],
   "source": [
    "# 모델 생성\n",
    "knr = KNeighborsRegressor()\n"
   ]
  },
  {
   "cell_type": "code",
   "execution_count": 95,
   "id": "1ab85cf5",
   "metadata": {},
   "outputs": [
    {
     "data": {
      "text/plain": [
       "KNeighborsRegressor()"
      ]
     },
     "execution_count": 95,
     "metadata": {},
     "output_type": "execute_result"
    }
   ],
   "source": [
    "# 모델 학습\n",
    "knr.fit(x_train, y_train)\n"
   ]
  },
  {
   "cell_type": "code",
   "execution_count": 96,
   "id": "fc2084b6",
   "metadata": {},
   "outputs": [
    {
     "data": {
      "text/plain": [
       "0.9466315414430853"
      ]
     },
     "execution_count": 96,
     "metadata": {},
     "output_type": "execute_result"
    }
   ],
   "source": [
    "\n",
    "# 모델 테스트(test 데이터 입력)\n",
    "# 회귀모델에서 정확도 개념이 없음 => 결정계수(R^2 or R**2) 이용\n",
    "knr.score(x_test, y_test)\n"
   ]
  },
  {
   "cell_type": "markdown",
   "id": "72e9c156",
   "metadata": {},
   "source": [
    "### 결정계수\n",
    "- 상관계수(r), 결정계수(r^2) 설명 "
   ]
  },
  {
   "cell_type": "code",
   "execution_count": 97,
   "id": "5333e4dd",
   "metadata": {},
   "outputs": [],
   "source": [
    "from sklearn.metrics import mean_absolute_error\n"
   ]
  },
  {
   "cell_type": "code",
   "execution_count": 98,
   "metadata": {},
   "outputs": [
    {
     "name": "stdout",
     "output_type": "stream",
     "text": [
      "0.14736842105263157\n"
     ]
    }
   ],
   "source": [
    "pred = knr.predict(x_test)  # 예측값\n",
    "# 타깃(실제값)과 예측값을 입력해서 평균오차 반환\n",
    "mae = mean_absolute_error(y_test, pred)\n",
    "\n",
    "print(mae)  # 평균오차(cm)\n"
   ]
  },
  {
   "cell_type": "code",
   "execution_count": null,
   "id": "ea63f889",
   "metadata": {},
   "outputs": [],
   "source": []
  },
  {
   "cell_type": "code",
   "execution_count": 99,
   "id": "3a058808",
   "metadata": {},
   "outputs": [],
   "source": [
    "# 꽃잎의 길이가 5.1cm인 경우 폭이 얼마일지 예측 \n",
    "\n",
    "new_data = np.array([[5.1]]) # numpy 배열(샘플 수에 특성 수를 곱한 크기로 만들기)\n"
   ]
  },
  {
   "cell_type": "code",
   "execution_count": 100,
   "id": "0a98f4db",
   "metadata": {},
   "outputs": [
    {
     "name": "stdout",
     "output_type": "stream",
     "text": [
      "[1.84]\n"
     ]
    }
   ],
   "source": [
    "pred = knr.predict(new_data)\n",
    "print(pred)"
   ]
  },
  {
   "cell_type": "code",
   "execution_count": 101,
   "id": "90041f79",
   "metadata": {},
   "outputs": [
    {
     "name": "stdout",
     "output_type": "stream",
     "text": [
      "(38, 1)\n",
      "[1.58 0.38 2.12 1.52 1.66 0.18 1.1  1.84 1.52 1.2  1.84 0.2  0.28 0.18\n",
      " 0.18 1.58 2.12 1.2  1.52 1.96 0.38 1.7  0.38 1.96 2.12 1.92 2.12 2.1\n",
      " 0.2  0.38 0.24 0.18 1.42 0.38 0.28 1.64 1.52 0.18]\n"
     ]
    }
   ],
   "source": [
    "y_pred = knr.predict(x_test)\n",
    "\n",
    "print(x_test.shape)   # 30개를 검증에 사용\n",
    "print(y_pred)          # 예측 결과(수치 데이터 반환) \n"
   ]
  },
  {
   "cell_type": "markdown",
   "id": "650ff1af",
   "metadata": {},
   "source": [
    "KNN 회귀\n",
    "- 테스트하고자 하는 샘플에 근접한 훈련 데이터가 없는 경우, 즉 훈련 셋의 범위를 많이 벗어나는 샘플인 경우 정확하게 예측하기 어려움\n",
    "- 선형회귀 사용 "
   ]
  },
  {
   "cell_type": "markdown",
   "id": "16cb72a0",
   "metadata": {},
   "source": [
    "### 선형회귀\n",
    "- 특징이 하나인 경우 어떤 직선을 학습하는 알고리\n",
    "- 최소제곱법(기본) / 리지, 라소\n",
    "- 상관분석을 통해서 양의 상관관계, 음의 상관관계가 있을 때만 사용 \n"
   ]
  },
  {
   "cell_type": "code",
   "execution_count": 102,
   "id": "3662f800",
   "metadata": {},
   "outputs": [],
   "source": [
    "import numpy as np\n",
    "import matplotlib.pyplot as plt\n",
    "from sklearn.linear_model import LinearRegression\n",
    "from sklearn.model_selection import train_test_split\n"
   ]
  },
  {
   "cell_type": "code",
   "execution_count": 103,
   "id": "ec8002a2",
   "metadata": {},
   "outputs": [],
   "source": [
    "lr = LinearRegression()\n",
    "lr.fit(x_train, y_train)\n",
    "pred = lr.predict(new_data)\n"
   ]
  },
  {
   "cell_type": "code",
   "execution_count": 104,
   "id": "d789d39b",
   "metadata": {},
   "outputs": [
    {
     "name": "stdout",
     "output_type": "stream",
     "text": [
      "0.9218816722386638\n",
      "0.9398857910361995\n"
     ]
    }
   ],
   "source": [
    "print(lr.score(x_train, y_train))\n",
    "print(lr.score(x_test, y_test))\n"
   ]
  },
  {
   "cell_type": "markdown",
   "id": "1d093912",
   "metadata": {},
   "source": [
    "직선의 방정식 =>  y=ax+b\n"
   ]
  },
  {
   "cell_type": "code",
   "execution_count": 105,
   "id": "c3bbc66a",
   "metadata": {},
   "outputs": [
    {
     "name": "stdout",
     "output_type": "stream",
     "text": [
      "[0.41384233] -0.36127114515039827\n"
     ]
    }
   ],
   "source": [
    "print(lr.coef_, lr.intercept_)   # 직선의 방정식에서 a와 b의 값"
   ]
  },
  {
   "cell_type": "code",
   "execution_count": 106,
   "id": "15ba2cf4",
   "metadata": {},
   "outputs": [
    {
     "data": {
      "image/png": "[encoded data removed]",
      "text/plain": [
       "<Figure size 432x288 with 1 Axes>"
      ]
     },
     "metadata": {
      "needs_background": "light"
     },
     "output_type": "display_data"
    }
   ],
   "source": [
    "plt.scatter(X,y)\n",
    "plt.plot([1, 7], [1*lr.coef_ + lr.intercept_, 7*lr.coef_ + lr.intercept_]) # 범위, 방정식 \n",
    "\n",
    "plt.scatter(new_data, pred, marker='^', c='r')\n",
    "plt.xlabel('petal length')\n",
    "plt.ylabel('petal width')\n",
    "plt.show()\n"
   ]
  },
  {
   "cell_type": "markdown",
   "id": "ac7aa73e",
   "metadata": {},
   "source": [
    "선형회귀 : 선을 사용, 실제값과 예측값의 차이를 계산해서 평균하면 모델의 오차를 찾을 수 있음(오차가 적은 선을 최적의 선으로 사용함\n",
    "<br> \n",
    "그러나, 정확한 예측이 아니고 그래프가 제 1사분면을 벗어날 경우 문제가 발생 "
   ]
  },
  {
   "cell_type": "markdown",
   "id": "2a46adb5",
   "metadata": {},
   "source": [
    "### 다항 회귀 \n",
    "- 다항식을 사용한 선형 회귀\n",
    "- 농어의 길이와 무게 데이터 "
   ]
  },
  {
   "cell_type": "code",
   "execution_count": 107,
   "id": "0a2cd593",
   "metadata": {},
   "outputs": [],
   "source": [
    "perch_length = np.array([8.4, 13.7, 15.0, 16.2, 17.4, 18.0, 18.7, 19.0, 19.6, 20.0, 21.0,\n",
    "                         21.0, 21.0, 21.3, 22.0, 22.0, 22.0, 22.0, 22.0, 22.5, 22.5, 22.7,\n",
    "                         23.0, 23.5, 24.0, 24.0, 24.6, 25.0, 25.6, 26.5, 27.3, 27.5, 27.5,\n",
    "                         27.5, 28.0, 28.7, 30.0, 32.8, 34.5, 35.0, 36.5, 36.0, 37.0, 37.0,\n",
    "                         39.0, 39.0, 39.0, 40.0, 40.0, 40.0, 40.0, 42.0, 43.0, 43.0, 43.5,\n",
    "                         44.0])\n",
    "perch_weight = np.array([5.9, 32.0, 40.0, 51.5, 70.0, 100.0, 78.0, 80.0, 85.0, 85.0, 110.0,\n",
    "                         115.0, 125.0, 130.0, 120.0, 120.0, 130.0, 135.0, 110.0, 130.0,\n",
    "                         150.0, 145.0, 150.0, 170.0, 225.0, 145.0, 188.0, 180.0, 197.0,\n",
    "                         218.0, 300.0, 260.0, 265.0, 250.0, 250.0, 300.0, 320.0, 514.0,\n",
    "                         556.0, 840.0, 685.0, 700.0, 700.0, 690.0, 900.0, 650.0, 820.0,\n",
    "                         850.0, 900.0, 1015.0, 820.0, 1100.0, 1000.0, 1100.0, 1000.0,\n",
    "                         1000.0])\n"
   ]
  },
  {
   "cell_type": "code",
   "execution_count": 108,
   "id": "14555cf8",
   "metadata": {},
   "outputs": [
    {
     "data": {
      "image/png": "[encoded data removed]",
      "text/plain": [
       "<Figure size 432x288 with 1 Axes>"
      ]
     },
     "metadata": {
      "needs_background": "light"
     },
     "output_type": "display_data"
    }
   ],
   "source": [
    "plt.scatter(perch_length, perch_weight)\n",
    "plt.show()"
   ]
  },
  {
   "cell_type": "code",
   "execution_count": 109,
   "id": "e1a0e494",
   "metadata": {},
   "outputs": [],
   "source": [
    "from sklearn.model_selection import train_test_split\n",
    "\n",
    "X_train, X_test, y_train, y_test = train_test_split(perch_length, perch_weight, random_state=42)\n",
    "\n"
   ]
  },
  {
   "cell_type": "code",
   "execution_count": 110,
   "id": "52e7ea81",
   "metadata": {},
   "outputs": [
    {
     "name": "stdout",
     "output_type": "stream",
     "text": [
      "(42,)\n",
      "(42, 2)\n"
     ]
    }
   ],
   "source": [
    "# 2차방정식 구하기 위해서 2차원 배열로 만들기 \n",
    "# numpy의 column_stack 함수 : 열 방향으로 배열을 합쳐줌 \n",
    "\n",
    "train_poly = np.column_stack((X_train**2, X_train))\n",
    "test_poly = np.column_stack((X_test**2, X_test))\n",
    "\n",
    "print(X_train.shape)\n",
    "print(train_poly.shape)\n"
   ]
  },
  {
   "cell_type": "code",
   "execution_count": 111,
   "id": "d16540a6",
   "metadata": {},
   "outputs": [
    {
     "data": {
      "text/plain": [
       "LinearRegression()"
      ]
     },
     "execution_count": 111,
     "metadata": {},
     "output_type": "execute_result"
    }
   ],
   "source": [
    "lr = LinearRegression()\n",
    "lr.fit(train_poly, y_train)\n"
   ]
  },
  {
   "cell_type": "code",
   "execution_count": 112,
   "id": "9ea386ea",
   "metadata": {},
   "outputs": [
    {
     "name": "stdout",
     "output_type": "stream",
     "text": [
      "[  1.01433211 -21.55792498] 116.05021078278304\n"
     ]
    }
   ],
   "source": [
    "coef = lr.coef_\n",
    "intercept = lr.intercept_\n",
    "print(coef, intercept)"
   ]
  },
  {
   "cell_type": "markdown",
   "id": "ef1af124",
   "metadata": {},
   "source": [
    "y = 1.014x2−21.5579x+116.05 이라는 그래프 "
   ]
  },
  {
   "cell_type": "code",
   "execution_count": 113,
   "id": "a6adc6d0",
   "metadata": {},
   "outputs": [
    {
     "name": "stdout",
     "output_type": "stream",
     "text": [
      "0.9706807451768623\n",
      "0.9775935108325122\n"
     ]
    }
   ],
   "source": [
    "print(lr.score(train_poly, y_train))  # 0.9706807451768623\n",
    "print(lr.score(test_poly, y_test))"
   ]
  },
  {
   "cell_type": "code",
   "execution_count": 114,
   "id": "cb668ba8",
   "metadata": {},
   "outputs": [
    {
     "name": "stdout",
     "output_type": "stream",
     "text": [
      "[876.66458663]\n"
     ]
    }
   ],
   "source": [
    "# 길이가 40인 농어의 무게를 예측하기 \n",
    "### * 훈련과정과 동일하게 길이의 제곱을 함께 넣어주어야한다 ###\n",
    "print(lr.predict([[40**2, 40]]))  \n",
    "\n",
    "# 예측한 무게 : 876\n"
   ]
  },
  {
   "cell_type": "code",
   "execution_count": 115,
   "id": "f6ce1d2f",
   "metadata": {},
   "outputs": [
    {
     "data": {
      "image/png": "[encoded data removed]",
      "text/plain": [
       "<Figure size 432x288 with 1 Axes>"
      ]
     },
     "metadata": {
      "needs_background": "light"
     },
     "output_type": "display_data"
    }
   ],
   "source": [
    "point = np.arange(15, 50)  # x값의 범위 설정 \n",
    "\n",
    "plt.scatter(X_train, y_train)\n",
    "plt.plot(point, coef[0]*point**2 + coef[1]*point + intercept)  # 방정식 그리기 : y = ax**2 + bx + c \n",
    "\n",
    "\n",
    "plt.scatter([40], [876], marker='^')\n",
    "plt.show()\n"
   ]
  },
  {
   "cell_type": "code",
   "execution_count": null,
   "id": "c78a09db",
   "metadata": {},
   "outputs": [],
   "source": []
  }
 ],
 "metadata": {
  "kernelspec": {
   "display_name": "Python 3.8.8 64-bit ('base': conda)",
   "language": "python",
   "name": "python3"
  },
  "language_info": {
   "codemirror_mode": {
    "name": "ipython",
    "version": 3
   },
   "file_extension": ".py",
   "mimetype": "text/x-python",
   "name": "python",
   "nbconvert_exporter": "python",
   "pygments_lexer": "ipython3",
   "version": "3.8.8"
  },
  "vscode": {
   "interpreter": {
    "hash": "d3503761bcfca8a35b206c120347a79b8f357a240799dbb2d56df951ee782c70"
   }
  }
 },
 "nbformat": 4,
 "nbformat_minor": 5
}
