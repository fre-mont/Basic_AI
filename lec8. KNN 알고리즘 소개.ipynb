{
 "cells": [
  {
   "cell_type": "markdown",
   "id": "8a9347cf",
   "metadata": {},
   "source": [
    "### 더미 데이터로 분류 과정 확인하기 \n"
   ]
  },
  {
   "cell_type": "code",
   "execution_count": 2,
   "id": "acf010e7",
   "metadata": {},
   "outputs": [],
   "source": [
    "import numpy as np\n",
    "import pandas as pd\n",
    "import matplotlib.pyplot as plt\n",
    "\n",
    "# KNN 분류 라이브러리\n",
    "from sklearn.neighbors import KNeighborsClassifier\n",
    "\n",
    "# 사이킷런을 활용한 랜덤 데이터 생성\n",
    "from sklearn.datasets import make_classification \n"
   ]
  },
  {
   "cell_type": "markdown",
   "id": "1fc71812",
   "metadata": {},
   "source": [
    "#### 더미 데이터 생성\n",
    "- sklearn을 사용하여 랜덤 데이터생성하기 \n",
    "- https://scikit-learn.org/stable/modules/generated/sklearn.datasets.make_classification.html"
   ]
  },
  {
   "cell_type": "code",
   "execution_count": 3,
   "id": "056e27ff",
   "metadata": {},
   "outputs": [],
   "source": [
    "# 랜덤 데이터 생성하기\n",
    "\n",
    "X, y = make_classification(n_samples=40, n_features=2, n_informative=2, n_redundant=0, random_state=30)\n"
   ]
  },
  {
   "cell_type": "code",
   "execution_count": 4,
   "id": "8c45dc38",
   "metadata": {},
   "outputs": [
    {
     "name": "stdout",
     "output_type": "stream",
     "text": [
      "[[-1.26195614  1.74487533]\n",
      " [ 2.27496744  1.77040887]\n",
      " [-0.83102352 -0.22566669]\n",
      " [-2.20386264 -2.18016713]\n",
      " [-1.06179427  0.22320334]\n",
      " [ 2.07015109 -0.33131959]\n",
      " [ 3.00711854  0.07835372]\n",
      " [ 0.88719207 -2.00356184]\n",
      " [-1.33346786 -0.12135572]\n",
      " [ 2.46123323  1.61235601]\n",
      " [-0.77963447 -0.40398259]\n",
      " [ 1.35851286 -2.21871368]\n",
      " [-0.73043568  0.69502814]\n",
      " [ 0.98889101  1.71056597]\n",
      " [ 0.03922811  0.52215693]\n",
      " [ 1.78824287  0.16874925]\n",
      " [-1.77326789  0.40055281]\n",
      " [-0.02093594 -0.83038131]\n",
      " [ 0.56222029 -0.48419016]\n",
      " [-0.80958257 -0.38481705]\n",
      " [ 1.54230308  2.32385246]\n",
      " [ 1.21308882  1.13117156]\n",
      " [ 0.73290487  0.4867071 ]\n",
      " [-0.45675998  0.29703412]\n",
      " [ 1.2192188   1.41565135]\n",
      " [-1.2242381  -0.99987045]\n",
      " [ 0.20983312 -2.10790916]\n",
      " [-1.59989861 -0.44531161]\n",
      " [ 1.86118015  1.74257701]\n",
      " [ 2.56473882  3.14503521]\n",
      " [ 2.26342712  0.36121368]\n",
      " [ 0.2836047  -0.25367715]\n",
      " [-0.35724253 -3.09464436]\n",
      " [-0.900381   -2.68482014]\n",
      " [-0.91532494  1.63623857]\n",
      " [-2.70112726 -2.19599973]\n",
      " [ 0.42591702  2.39283769]\n",
      " [-1.32269121 -0.92137826]\n",
      " [ 0.63301443  0.2670318 ]\n",
      " [ 1.28399838  1.36570458]]\n",
      "[1 1 1 0 1 0 0 0 0 1 0 0 1 1 1 0 1 0 0 1 1 1 1 0 1 0 0 0 1 1 0 0 0 0 1 0 1\n",
      " 0 1 1]\n"
     ]
    }
   ],
   "source": [
    "feature_1 = X[y == 0]\n",
    "feature_2 = X[y == 1]\n",
    "print(X)  # 특징 데이터\n",
    "print(y)  # 정답데이터"
   ]
  },
  {
   "cell_type": "code",
   "execution_count": 5,
   "id": "d02fb424",
   "metadata": {},
   "outputs": [
    {
     "data": {
      "text/plain": [
       "0.925"
      ]
     },
     "execution_count": 5,
     "metadata": {},
     "output_type": "execute_result"
    }
   ],
   "source": [
    "knn = KNeighborsClassifier(n_neighbors=5) # 모델 생성\n",
    "knn.fit(X, y)           # 모델 학습\n",
    "knn.score(X, y)\n"
   ]
  },
  {
   "cell_type": "code",
   "execution_count": 8,
   "id": "5a02c3a2",
   "metadata": {},
   "outputs": [
    {
     "data": {
      "image/png": "[encoded data removed]",
      "text/plain": [
       "<Figure size 720x504 with 1 Axes>"
      ]
     },
     "metadata": {
      "needs_background": "light"
     },
     "output_type": "display_data"
    }
   ],
   "source": [
    "# 분류를 수행할 새로운 데이터 입력\n",
    "new_data = np.array([[0, 0]])\n",
    "\n",
    "plt.figure(figsize=(10, 7))   # 그래프 사이즈 설정\n",
    "\n",
    "# feature_1에 해당하는 데이터 시각화\n",
    "plt.scatter(feature_1[:, 0], feature_1[:, 1], 80, color='pink', marker='^')\n",
    "# feature_2에 해당하는 데이터 시각화\n",
    "plt.scatter(feature_2[:, 0], feature_2[:, 1], 80, 'orange', 'o') \n",
    "# 예측할 새로운 데이터 시각화\n",
    "plt.scatter(new_data[:, 0], new_data[:, 1], 80, 'b', '*')\n",
    "plt.show()\n"
   ]
  },
  {
   "cell_type": "code",
   "execution_count": 9,
   "id": "479e98e3",
   "metadata": {},
   "outputs": [
    {
     "name": "stdout",
     "output_type": "stream",
     "text": [
      "[[0.38050457 0.5236284  0.54484764 0.68703221 0.74197828]]\n",
      "class : [0]\n"
     ]
    }
   ],
   "source": [
    "prediction = knn.predict(new_data) # 모델 예측\n",
    "distance, indexes = knn.kneighbors(new_data)\n",
    "print(distance)  # 선택한 이웃 5개의 거리\n",
    "print(\"class :\", prediction)\n"
   ]
  },
  {
   "cell_type": "code",
   "execution_count": 11,
   "id": "e0e26f33",
   "metadata": {},
   "outputs": [
    {
     "data": {
      "image/png": "[encoded data removed]",
      "text/plain": [
       "<Figure size 720x504 with 1 Axes>"
      ]
     },
     "metadata": {
      "needs_background": "light"
     },
     "output_type": "display_data"
    }
   ],
   "source": [
    "\n",
    "plt.figure(figsize=(10, 7))\n",
    "# feature_1\n",
    "plt.scatter(feature_1[:, 0], feature_1[:, 1], 80, color='pink', marker='^')\n",
    "plt.scatter(feature_2[:, 0], feature_2[:, 1], 80, 'orange', 'o')  # feature_2\n",
    "plt.scatter(new_data[:, 0], new_data[:, 1], 80, 'b', '*')  # new_data\n",
    "# 선택한 이웃 시각화\n",
    "\n",
    "\n",
    "plt.scatter(X[indexes, 0], X[indexes, 1], marker='*', color='g')\n",
    "plt.show()\n"
   ]
  },
  {
   "cell_type": "code",
   "execution_count": null,
   "id": "b0995725",
   "metadata": {},
   "outputs": [],
   "source": []
  }
 ],
 "metadata": {
  "kernelspec": {
   "display_name": "Python 3.8.8 64-bit ('base': conda)",
   "language": "python",
   "name": "python3"
  },
  "language_info": {
   "codemirror_mode": {
    "name": "ipython",
    "version": 3
   },
   "file_extension": ".py",
   "mimetype": "text/x-python",
   "name": "python",
   "nbconvert_exporter": "python",
   "pygments_lexer": "ipython3",
   "version": "3.8.8"
  },
  "vscode": {
   "interpreter": {
    "hash": "d3503761bcfca8a35b206c120347a79b8f357a240799dbb2d56df951ee782c70"
   }
  }
 },
 "nbformat": 4,
 "nbformat_minor": 5
}
