{
 "cells": [
  {
   "cell_type": "markdown",
   "id": "8a9347cf",
   "metadata": {},
   "source": [
    "### 회귀 모델\n",
    "- 지도학습 : 정답데이터 필요\n",
    "- 회귀 <=> 예측\n",
    "- > KNN 회귀 : 분류와 동일하게 임의의 데이터의 예측값을 예측하기 위해서 K개의 이웃의 수치데이터를 바탕으로 평균을 내어 예측하는 방법\n",
    "- > 클래스 중 하나로 분류하는 것이 아니라 임의의 어떤 '숫자'를 예측하는 문제\n",
    "- > 주어진 문제 : petal length로 petal width 예측해보자 "
   ]
  },
  {
   "cell_type": "markdown",
   "id": "99675cda",
   "metadata": {},
   "source": [
    "### 라이브러리 불러오기 "
   ]
  },
  {
   "cell_type": "code",
   "execution_count": 1,
   "id": "601a44d1",
   "metadata": {},
   "outputs": [],
   "source": [
    "# 1. 필요한 라이브러리 불러오기\n",
    "import numpy as np\n",
    "import pandas as pd\n",
    "import matplotlib.pyplot as plt\n"
   ]
  },
  {
   "cell_type": "markdown",
   "id": "82f8c94d",
   "metadata": {},
   "source": [
    "### 1. 데이터 로드하기"
   ]
  },
  {
   "cell_type": "code",
   "execution_count": 2,
   "id": "e3e5b1f3",
   "metadata": {},
   "outputs": [
    {
     "name": "stdout",
     "output_type": "stream",
     "text": [
      "<class 'sklearn.utils.Bunch'>\n"
     ]
    }
   ],
   "source": [
    "# 2. iris 붓꽃 데이터 로드\n",
    "from sklearn.datasets import load_iris\n",
    "iris = load_iris()\n",
    "print(type(iris))"
   ]
  },
  {
   "cell_type": "markdown",
   "id": "7dfa9ff2",
   "metadata": {},
   "source": [
    "### 2. 데이터 탐색하기 "
   ]
  },
  {
   "cell_type": "markdown",
   "id": "d7601876",
   "metadata": {},
   "source": [
    "### 데이터 전처리\n",
    "- 분류모델은 지도학습으로 **정답**이 반드시 필요함\n",
    "- 학습을 위한 데이터 준비\n"
   ]
  },
  {
   "cell_type": "code",
   "execution_count": 3,
   "id": "16f925d1",
   "metadata": {},
   "outputs": [],
   "source": [
    "# 3. 데이터 준비\n",
    "# sepal: 꽃받침, petal: 꽃잎\n",
    "features = iris['data']  # 특징데이터\n",
    "feature_names = iris['feature_names']\n",
    "\n",
    "# 데이터프레임으로 만들기\n",
    "df = pd.DataFrame(features, columns=feature_names)\n"
   ]
  },
  {
   "cell_type": "markdown",
   "id": "d8e29603",
   "metadata": {},
   "source": [
    "### 데이터셋을 DataFrame으로 변환\n",
    "- pandas 사용 "
   ]
  },
  {
   "cell_type": "code",
   "execution_count": 4,
   "id": "7a962761",
   "metadata": {},
   "outputs": [],
   "source": [
    "# 기존 데이터에서 sepal 관련 column 제거하기\n",
    "data = df.drop(columns=['sepal length (cm)', 'sepal width (cm)'])\n",
    "data.head()\n",
    "\n",
    "#### Feature Data : Petal length\n",
    "#### Label Data : Petal width\n",
    "\n",
    "x = data['petal length (cm)']  # 특징데이터\n",
    "y = data['petal width (cm)']  # 정답데이터\n"
   ]
  },
  {
   "cell_type": "code",
   "execution_count": 5,
   "id": "944a8dd7",
   "metadata": {},
   "outputs": [
    {
     "data": {
      "image/png": "[encoded data removed]",
      "text/plain": [
       "<Figure size 432x288 with 1 Axes>"
      ]
     },
     "metadata": {
      "needs_background": "light"
     },
     "output_type": "display_data"
    }
   ],
   "source": [
    "# 데이터 시각화\n",
    "plt.scatter(x, y)\n",
    "plt.xlabel('petal length')\n",
    "plt.ylabel('petal width')\n",
    "plt.show()\n"
   ]
  },
  {
   "cell_type": "markdown",
   "id": "64b3816c",
   "metadata": {},
   "source": [
    "### 데이터 분리 \n",
    "- train(학습) / test(검증) 데이터 분리하기\n",
    "\n",
    "\n"
   ]
  },
  {
   "cell_type": "code",
   "execution_count": 6,
   "id": "67881f83",
   "metadata": {},
   "outputs": [
    {
     "name": "stdout",
     "output_type": "stream",
     "text": [
      "<class 'pandas.core.series.Series'>\n",
      "<class 'pandas.core.series.Series'>\n"
     ]
    }
   ],
   "source": [
    "print(type(x))\n",
    "print(type(y))\n",
    "\n",
    "# pandas => numpy로 변환\n",
    "x = np.array(x)\n",
    "y = np.array(y)\n"
   ]
  },
  {
   "cell_type": "code",
   "execution_count": 7,
   "id": "d909dda6",
   "metadata": {},
   "outputs": [
    {
     "name": "stdout",
     "output_type": "stream",
     "text": [
      "(112,) (38,)\n"
     ]
    }
   ],
   "source": [
    "from sklearn.model_selection import train_test_split\n",
    "\n",
    "x_train, x_test, y_train, y_test = train_test_split(x, y, random_state=42)\n",
    "print(x_train.shape, x_test.shape) # 75 : 25\n"
   ]
  },
  {
   "cell_type": "markdown",
   "id": "472388e3",
   "metadata": {},
   "source": [
    "scikit-learn 모듈 : 반드시 2차원 배열(행렬)값을 모델의 입력데이터로 사용\n",
    "- 만약 1차원 배열일 경우, numpy의 reshape()함수 사용하여 변형 "
   ]
  },
  {
   "cell_type": "code",
   "execution_count": 8,
   "id": "2e2a1d51",
   "metadata": {},
   "outputs": [
    {
     "name": "stdout",
     "output_type": "stream",
     "text": [
      "(112, 1)\n",
      "(38, 1)\n"
     ]
    }
   ],
   "source": [
    "# -1은 신경쓰지말고 그 옆에 있는 숫자만 shape으로 맞춤\n",
    "x_train = x_train.reshape(-1, 1)\n",
    "x_test = x_test.reshape(-1, 1)\n",
    "\n",
    "print(x_train.shape)\n",
    "print(x_test.shape)\n"
   ]
  },
  {
   "cell_type": "markdown",
   "id": "674f1b7f",
   "metadata": {},
   "source": [
    "### KNN 회귀 모델 생성\n"
   ]
  },
  {
   "cell_type": "code",
   "execution_count": 9,
   "id": "87c326e6",
   "metadata": {},
   "outputs": [
    {
     "data": {
      "text/plain": [
       "KNeighborsRegressor()"
      ]
     },
     "execution_count": 9,
     "metadata": {},
     "output_type": "execute_result"
    }
   ],
   "source": [
    "# 회귀모델 사용\n",
    "from sklearn.neighbors import KNeighborsRegressor\n",
    "\n",
    "# 모델 생성\n",
    "knr = KNeighborsRegressor()\n",
    "\n",
    "# 모델 학습\n",
    "knr.fit(x_train, y_train)\n"
   ]
  },
  {
   "cell_type": "code",
   "execution_count": 10,
   "id": "d0a654a7",
   "metadata": {},
   "outputs": [
    {
     "data": {
      "text/plain": [
       "0.9466315414430853"
      ]
     },
     "execution_count": 10,
     "metadata": {},
     "output_type": "execute_result"
    }
   ],
   "source": [
    "# 모델 성능 평가(test data 입력) => 결정계수 이용\n",
    "\n",
    "knr.score(x_test, y_test)\n"
   ]
  },
  {
   "cell_type": "markdown",
   "id": "cf41d017",
   "metadata": {},
   "source": [
    "### 결정계수\n",
    "- 회귀선에 각각의 값들이 얼마나 가까운지 측정\n",
    "- 회귀선이 얼마나 실제값을 잘 예측할 수 있는 지 확인 가능\n",
    "- 0~1 사이 값을 가짐(1에 가까워질 수록 정확도가 높음)\n",
    "\n"
   ]
  },
  {
   "cell_type": "code",
   "execution_count": 11,
   "id": "5333e4dd",
   "metadata": {},
   "outputs": [
    {
     "name": "stdout",
     "output_type": "stream",
     "text": [
      "0.14736842105263157\n"
     ]
    }
   ],
   "source": [
    "from sklearn.metrics import mean_absolute_error\n",
    "\n",
    "pred = knr.predict(x_test)  # 예측값\n",
    "# 타깃(실제값)과 예측값을 입력해서 평균오차 반환\n",
    "mae = mean_absolute_error(y_test, pred)\n",
    "print(mae) # 평균오차(cm)\n"
   ]
  },
  {
   "cell_type": "code",
   "execution_count": 12,
   "id": "ee8a2434",
   "metadata": {},
   "outputs": [
    {
     "name": "stdout",
     "output_type": "stream",
     "text": [
      "(38, 1)\n",
      "[1.58 0.38 2.12 1.52 1.66 0.18 1.1  1.84 1.52 1.2  1.84 0.2  0.28 0.18\n",
      " 0.18 1.58 2.12 1.2  1.52 1.96 0.38 1.7  0.38 1.96 2.12 1.92 2.12 2.1\n",
      " 0.2  0.38 0.24 0.18 1.42 0.38 0.28 1.64 1.52 0.18]\n"
     ]
    }
   ],
   "source": [
    "y_pred = knr.predict(x_test)\n",
    "print(x_test.shape)  # 38개(test set)를 검증에 사용\n",
    "print(y_pred)  # 예측 결과(수치 데이터 반환)\n"
   ]
  },
  {
   "cell_type": "code",
   "execution_count": 13,
   "id": "ea63f889",
   "metadata": {},
   "outputs": [
    {
     "name": "stdout",
     "output_type": "stream",
     "text": [
      "[1.84]\n"
     ]
    }
   ],
   "source": [
    "# 꽃잎의 길이가 5.1cm인 경우 폭이 얼마일지 예측\n",
    "# numpy 배열(샘플 수에 특성 수를 곱한 크기로 만들기), 학습시 사용한 데이터와 동일한 형태 \n",
    "# \n",
    "new_data = np.array([[5.1]])\n",
    "pred = knr.predict(new_data)\n",
    "print(pred)  # cm\n"
   ]
  },
  {
   "cell_type": "markdown",
   "id": "650ff1af",
   "metadata": {},
   "source": [
    "KNN 회귀\n",
    "- 테스트하고자 하는 샘플에 근접한 훈련 데이터가 없는 경우, 즉 훈련 셋의 범위를 많이 벗어나는 샘플인 경우 정확하게 예측하기 어려움\n",
    "- 선형회귀 사용 "
   ]
  },
  {
   "cell_type": "markdown",
   "id": "16cb72a0",
   "metadata": {},
   "source": [
    "### 선형회귀\n",
    "- 특징이 하나인 경우 어떤 직선을 학습하는 알고리\n",
    "- 최소제곱법(기본) / 리지, 라소\n",
    "- 상관분석을 통해서 양의 상관관계, 음의 상관관계가 있을 때만 사용 \n",
    "\n",
    "> 직선의 방정식 =>  y=ax+b\n",
    "\n",
    "\n"
   ]
  },
  {
   "cell_type": "code",
   "execution_count": 14,
   "id": "3662f800",
   "metadata": {},
   "outputs": [
    {
     "name": "stdout",
     "output_type": "stream",
     "text": [
      "[0.41384233] -0.3612711451503987\n"
     ]
    }
   ],
   "source": [
    "from sklearn.linear_model import LinearRegression\n",
    "\n",
    "# 새로운 모델 생성\n",
    "lr = LinearRegression()\n",
    "\n",
    "# 모델 학습\n",
    "lr.fit(x_train, y_train)\n",
    "\n",
    "# 직선의 방정식에서 a와 b의 값\n",
    "print(lr.coef_, lr.intercept_)\n"
   ]
  },
  {
   "cell_type": "code",
   "execution_count": 15,
   "id": "ec8002a2",
   "metadata": {},
   "outputs": [
    {
     "data": {
      "image/png": "[encoded data removed]",
      "text/plain": [
       "<Figure size 432x288 with 1 Axes>"
      ]
     },
     "metadata": {
      "needs_background": "light"
     },
     "output_type": "display_data"
    }
   ],
   "source": [
    "plt.scatter(x, y)\n",
    "# 범위, 방정식 \n",
    "\n",
    "plt.scatter(new_data, pred, marker='^', c='r') # 그래프에서 예측하려는 새로운 데이터 표시하기\n",
    "plt.plot([1, 7], [1*lr.coef_ + lr.intercept_, 7*lr.coef_ + lr.intercept_])\n",
    "plt.xlabel('petal length')\n",
    "plt.ylabel('petal width')\n",
    "plt.show()\n"
   ]
  },
  {
   "cell_type": "code",
   "execution_count": 16,
   "id": "d789d39b",
   "metadata": {},
   "outputs": [
    {
     "name": "stdout",
     "output_type": "stream",
     "text": [
      "0.9218816722386638\n",
      "0.9398857910361995\n"
     ]
    }
   ],
   "source": [
    "print(lr.score(x_train, y_train))\n",
    "print(lr.score(x_test, y_test))"
   ]
  }
 ],
 "metadata": {
  "kernelspec": {
   "display_name": "Python 3",
   "language": "python",
   "name": "python3"
  },
  "language_info": {
   "codemirror_mode": {
    "name": "ipython",
    "version": 3
   },
   "file_extension": ".py",
   "mimetype": "text/x-python",
   "name": "python",
   "nbconvert_exporter": "python",
   "pygments_lexer": "ipython3",
   "version": "3.8.8"
  },
  "vscode": {
   "interpreter": {
    "hash": "d3503761bcfca8a35b206c120347a79b8f357a240799dbb2d56df951ee782c70"
   }
  }
 },
 "nbformat": 4,
 "nbformat_minor": 5
}
