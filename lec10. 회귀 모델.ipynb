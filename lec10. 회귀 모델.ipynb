{
 "cells": [
  {
   "cell_type": "markdown",
   "id": "ac7aa73e",
   "metadata": {},
   "source": [
    "### 선형회귀 \n",
    "- 선을 사용, 실제값과 예측값의 차이를 계산해서 평균하면 모델의 오차를 찾을 수 있음(오차가 적은 선을 최적의 선으로 사용함\n",
    " \n",
    "- 그러나, 정확한 예측이 아니고 그래프가 **제 1사분면을 벗어날 경우** 문제가 발생 "
   ]
  },
  {
   "cell_type": "markdown",
   "id": "2a46adb5",
   "metadata": {},
   "source": [
    "### 회귀 모델\n",
    "- 농어의 길이로 무게를 예측하자!\n",
    "- 데이터 다운로드 : https://gist.github.com/rickiepark \n"
   ]
  },
  {
   "cell_type": "code",
   "execution_count": 1,
   "id": "2f68aa25",
   "metadata": {},
   "outputs": [],
   "source": [
    "import numpy as np\n",
    "import pandas as pd\n",
    "import matplotlib.pyplot as plt"
   ]
  },
  {
   "cell_type": "code",
   "execution_count": 19,
   "id": "0a2cd593",
   "metadata": {},
   "outputs": [],
   "source": [
    "# 농어 길이\n",
    "perch_length = np.array([8.4, 13.7, 15.0, 16.2, 17.4, 18.0, 18.7, 19.0, 19.6, 20.0, 21.0,\n",
    "                         21.0, 21.0, 21.3, 22.0, 22.0, 22.0, 22.0, 22.0, 22.5, 22.5, 22.7,\n",
    "                         23.0, 23.5, 24.0, 24.0, 24.6, 25.0, 25.6, 26.5, 27.3, 27.5, 27.5,\n",
    "                         27.5, 28.0, 28.7, 30.0, 32.8, 34.5, 35.0, 36.5, 36.0, 37.0, 37.0,\n",
    "                         39.0, 39.0, 39.0, 40.0, 40.0, 40.0, 40.0, 42.0, 43.0, 43.0, 43.5,\n",
    "                         44.0])\n",
    "# 농어 무게\n",
    "perch_weight = np.array([5.9, 32.0, 40.0, 51.5, 70.0, 100.0, 78.0, 80.0, 85.0, 85.0, 110.0,\n",
    "                         115.0, 125.0, 130.0, 120.0, 120.0, 130.0, 135.0, 110.0, 130.0,\n",
    "                         150.0, 145.0, 150.0, 170.0, 225.0, 145.0, 188.0, 180.0, 197.0,\n",
    "                         218.0, 300.0, 260.0, 265.0, 250.0, 250.0, 300.0, 320.0, 514.0,\n",
    "                         556.0, 840.0, 685.0, 700.0, 700.0, 690.0, 900.0, 650.0, 820.0,\n",
    "                         850.0, 900.0, 1015.0, 820.0, 1100.0, 1000.0, 1100.0, 1000.0,\n",
    "                         1000.0])\n"
   ]
  },
  {
   "cell_type": "code",
   "execution_count": 21,
   "id": "14555cf8",
   "metadata": {},
   "outputs": [
    {
     "data": {
      "image/png": "[encoded data removed]",
      "text/plain": [
       "<Figure size 432x288 with 1 Axes>"
      ]
     },
     "metadata": {
      "needs_background": "light"
     },
     "output_type": "display_data"
    }
   ],
   "source": [
    "# 데이터 시각화\n",
    "# 농어의 길이가 늘어나면, 무게도 늘어난다\n",
    "# => 양의 상관관계\n",
    "# 상관계수값 : -1~1 (0.4 이상 정도 되면 관계가 있다고 판단함)\n",
    "\n",
    "plt.scatter(perch_length, perch_weight)\n",
    "plt.xlabel('length')\n",
    "plt.ylabel('weight')\n",
    "plt.show()\n"
   ]
  },
  {
   "cell_type": "markdown",
   "id": "ea4b8ffb",
   "metadata": {},
   "source": [
    "### 데이터 분리"
   ]
  },
  {
   "cell_type": "code",
   "execution_count": 23,
   "id": "e1a0e494",
   "metadata": {},
   "outputs": [
    {
     "name": "stdout",
     "output_type": "stream",
     "text": [
      "(42,)\n",
      "(14,)\n"
     ]
    }
   ],
   "source": [
    "from sklearn.model_selection import train_test_split\n",
    "\n",
    "\n",
    "x_train, x_test, y_train, y_test = train_test_split( perch_length, perch_weight, random_state=42)\n",
    "# 클래스가 1개이므로 random 추출 => 샘플링 편향이 일어날 수 있음\n",
    "\n",
    "\n",
    "print(x_train.shape)\n",
    "print(x_test.shape)\n"
   ]
  },
  {
   "cell_type": "markdown",
   "id": "76dcb8b9",
   "metadata": {},
   "source": [
    "#### scikit-learn 모듈 : 머신러닝 모델 사용\n",
    "> 반드시 2차원 배열(행렬)값을 모델의 입력데이터로 사용\n",
    "> - 1차원 배열 [1,2,3,4,5]\n",
    "> - 2차원 배열 [[1], [2], [3]]"
   ]
  },
  {
   "cell_type": "code",
   "execution_count": 26,
   "id": "1a87f096",
   "metadata": {},
   "outputs": [
    {
     "name": "stdout",
     "output_type": "stream",
     "text": [
      "(42, 1)\n",
      "(14, 1)\n"
     ]
    }
   ],
   "source": [
    "x_train = x_train.reshape(-1, 1)\n",
    "x_test = x_test.reshape(-1, 1)\n",
    "\n",
    "print(x_train.shape)\n",
    "print(x_test.shape)"
   ]
  },
  {
   "cell_type": "code",
   "execution_count": 27,
   "id": "1ea22498",
   "metadata": {},
   "outputs": [
    {
     "data": {
      "text/plain": [
       "LinearRegression()"
      ]
     },
     "execution_count": 27,
     "metadata": {},
     "output_type": "execute_result"
    }
   ],
   "source": [
    "from sklearn.linear_model import LinearRegression\n",
    "\n",
    "# 새로운 모델 생성\n",
    "lr = LinearRegression()\n",
    "\n",
    "# 모델 학습\n",
    "lr.fit(x_train, y_train)"
   ]
  },
  {
   "cell_type": "code",
   "execution_count": 29,
   "id": "2febee0f",
   "metadata": {},
   "outputs": [
    {
     "name": "stdout",
     "output_type": "stream",
     "text": [
      "[1241.83860323]\n"
     ]
    }
   ],
   "source": [
    "# 50cm 농어의 무게를 예측\n",
    "print(lr.predict([[50]]))   # g(그램)"
   ]
  },
  {
   "cell_type": "markdown",
   "id": "ab31973d",
   "metadata": {},
   "source": [
    "#### 직선의 방정식 => y = ax + b\n",
    "- y : 농어 무게\n",
    "- x : 농어 길이\n",
    "- a : 기울기 -> coefficient(계수)\n",
    "- b : 절편"
   ]
  },
  {
   "cell_type": "code",
   "execution_count": 30,
   "id": "08610944",
   "metadata": {},
   "outputs": [
    {
     "name": "stdout",
     "output_type": "stream",
     "text": [
      "[39.01714496] -709.0186449535474\n"
     ]
    }
   ],
   "source": [
    "# 직선의 방정식에서 a와 b의 값\n",
    "print(lr.coef_, lr.intercept_)"
   ]
  },
  {
   "cell_type": "code",
   "execution_count": 32,
   "id": "382f4480",
   "metadata": {},
   "outputs": [
    {
     "data": {
      "image/png": "[encoded data removed]",
      "text/plain": [
       "<Figure size 432x288 with 1 Axes>"
      ]
     },
     "metadata": {
      "needs_background": "light"
     },
     "output_type": "display_data"
    }
   ],
   "source": [
    "plt.scatter(x_train, y_train)\n",
    "plt.plot([15, 50], [15*lr.coef_ + lr.intercept_, 50*lr.coef_ + lr.intercept_])\n",
    "\n",
    "plt.scatter(50, 1241.8, marker='^')  # 예측한 결과도 그래프 시각화\n",
    "plt.xlabel('length')\n",
    "plt.ylabel('weight')\n",
    "plt.show()\n"
   ]
  },
  {
   "cell_type": "code",
   "execution_count": 34,
   "id": "52e7ea81",
   "metadata": {},
   "outputs": [
    {
     "name": "stdout",
     "output_type": "stream",
     "text": [
      "(42, 1)\n",
      "(42, 2)\n"
     ]
    }
   ],
   "source": [
    "# 2차방정식 구하기 위해서 2차원 배열로 만들기\n",
    "# numpy의 column_stack 함수 : 열 방향으로 배열을 합쳐줌\n",
    "\n",
    "train_poly = np.column_stack((x_train**2, x_train))\n",
    "test_poly = np.column_stack((x_test**2, x_test))\n",
    "\n",
    "\n",
    "print(x_train.shape)\n",
    "print(train_poly.shape)\n"
   ]
  },
  {
   "cell_type": "code",
   "execution_count": 35,
   "id": "d16540a6",
   "metadata": {},
   "outputs": [
    {
     "name": "stdout",
     "output_type": "stream",
     "text": [
      "[  1.01433211 -21.55792498] 116.05021078278259\n"
     ]
    }
   ],
   "source": [
    "lr = LinearRegression()\n",
    "lr.fit(train_poly, y_train)\n",
    "\n",
    "coef = lr.coef_\n",
    "intercept = lr.intercept_\n",
    "print(coef, intercept)\n"
   ]
  },
  {
   "cell_type": "code",
   "execution_count": 112,
   "id": "9ea386ea",
   "metadata": {},
   "outputs": [
    {
     "name": "stdout",
     "output_type": "stream",
     "text": [
      "[  1.01433211 -21.55792498] 116.05021078278304\n"
     ]
    }
   ],
   "source": [
    "coef = lr.coef_\n",
    "intercept = lr.intercept_\n",
    "print(coef, intercept)"
   ]
  },
  {
   "cell_type": "markdown",
   "id": "ef1af124",
   "metadata": {},
   "source": [
    "y = 1.014x2−21.5579x+116.05 이라는 그래프 "
   ]
  },
  {
   "cell_type": "code",
   "execution_count": 37,
   "id": "a6adc6d0",
   "metadata": {},
   "outputs": [
    {
     "name": "stdout",
     "output_type": "stream",
     "text": [
      "[876.66458663]\n"
     ]
    }
   ],
   "source": [
    "# 길이가 40인 농어의 무게를 예측하기\n",
    "### 훈련과정과 동일하게 길이의 제곱을 함께 넣어주어야한다 ###\n",
    "print(lr.predict([[40**2, 40]]))"
   ]
  },
  {
   "cell_type": "code",
   "execution_count": 114,
   "id": "cb668ba8",
   "metadata": {},
   "outputs": [
    {
     "name": "stdout",
     "output_type": "stream",
     "text": [
      "[876.66458663]\n"
     ]
    }
   ],
   "source": [
    "# 길이가 40인 농어의 무게를 예측하기 \n",
    "### * 훈련과정과 동일하게 길이의 제곱을 함께 넣어주어야한다 ###\n",
    "print(lr.predict([[40**2, 40]]))  \n",
    "\n",
    "# 예측한 무게 : 876\n"
   ]
  },
  {
   "cell_type": "code",
   "execution_count": 39,
   "id": "f6ce1d2f",
   "metadata": {},
   "outputs": [
    {
     "data": {
      "image/png": "[encoded data removed]",
      "text/plain": [
       "<Figure size 432x288 with 1 Axes>"
      ]
     },
     "metadata": {
      "needs_background": "light"
     },
     "output_type": "display_data"
    }
   ],
   "source": [
    "point = np.arange(15, 50) # x값의 범위 설정\n",
    "\n",
    "plt.scatter(x_train, y_train)\n",
    "# 방정식 그리기 : y = ax**2 + bx + c\n",
    "\n",
    "plt.plot(point, coef[0]*point**2 + coef[1]*point + intercept)\n",
    "plt.scatter([40], [876], marker='^')  # 예측값 포함하여 시각화\n",
    "plt.show()\n"
   ]
  },
  {
   "cell_type": "code",
   "execution_count": 40,
   "id": "c78a09db",
   "metadata": {},
   "outputs": [
    {
     "name": "stdout",
     "output_type": "stream",
     "text": [
      "0.9706807451768623\n",
      "0.9775935108325121\n"
     ]
    }
   ],
   "source": [
    "\n",
    "print(lr.score(train_poly, y_train))  \n",
    "print(lr.score(test_poly, y_test))\n"
   ]
  },
  {
   "cell_type": "markdown",
   "id": "656afb4b",
   "metadata": {},
   "source": [
    "### 참고: 만약 KNN 회귀였다면?"
   ]
  },
  {
   "cell_type": "code",
   "execution_count": 42,
   "id": "b13df05b",
   "metadata": {},
   "outputs": [
    {
     "name": "stdout",
     "output_type": "stream",
     "text": [
      "0.9698823289099254\n",
      "0.992809406101064\n"
     ]
    }
   ],
   "source": [
    "# 회귀모델 사용\n",
    "from sklearn.neighbors import KNeighborsRegressor\n",
    "\n",
    "\n",
    "# 모델 생성\n",
    "knr = KNeighborsRegressor()\n",
    "\n",
    "# 모델 학습\n",
    "knr.fit(x_train, y_train)\n",
    "\n",
    "# 모델 평가\n",
    "print(knr.score(x_train, y_train))  # 0.9698823289099254\n",
    "print(knr.score(x_test, y_test))  # 0.992809406101064\n"
   ]
  },
  {
   "cell_type": "code",
   "execution_count": 43,
   "id": "981fffe6",
   "metadata": {},
   "outputs": [
    {
     "name": "stdout",
     "output_type": "stream",
     "text": [
      "0.9698823289099254\n",
      "0.992809406101064\n"
     ]
    }
   ],
   "source": [
    "# 모델 평가\n",
    "print(knr.score(x_train, y_train))  # 0.9698823289099254\n",
    "print(knr.score(x_test, y_test))  # 0.992809406101064\n"
   ]
  },
  {
   "cell_type": "code",
   "execution_count": 44,
   "id": "5c73e833",
   "metadata": {},
   "outputs": [
    {
     "name": "stdout",
     "output_type": "stream",
     "text": [
      "0.9804899950518966\n",
      "0.9746459963987609\n"
     ]
    }
   ],
   "source": [
    "knr.n_neighbors = 3  # 이웃의 수를 5에서 3으로 줄임\n",
    "knr.fit(x_train, y_train)\n",
    "\n",
    "print(knr.score(x_train, y_train))  # 0.9804899950518966\n",
    "print(knr.score(x_test, y_test))  # 0.9746459963987609\n"
   ]
  },
  {
   "cell_type": "code",
   "execution_count": 45,
   "id": "c6066934",
   "metadata": {},
   "outputs": [
    {
     "name": "stdout",
     "output_type": "stream",
     "text": [
      "[1033.33333333]\n"
     ]
    }
   ],
   "source": [
    "# 길이가 100인 농어의 무게를 예측\n",
    "\n",
    "print(knr.predict([[100]])) # [1033.33333333]"
   ]
  },
  {
   "cell_type": "code",
   "execution_count": 49,
   "id": "371726e1",
   "metadata": {},
   "outputs": [
    {
     "data": {
      "image/png": "[encoded data removed]",
      "text/plain": [
       "<Figure size 432x288 with 1 Axes>"
      ]
     },
     "metadata": {
      "needs_background": "light"
     },
     "output_type": "display_data"
    }
   ],
   "source": [
    "plt.scatter(x_train, y_train)\n",
    "# 방정식 그리기 : y = ax**2 + bx + c\n",
    "plt.scatter([100], [1033.33], marker='^')  # 예측값 포함하여 시각화\n",
    "plt.show()\n"
   ]
  }
 ],
 "metadata": {
  "kernelspec": {
   "display_name": "Python 3",
   "language": "python",
   "name": "python3"
  },
  "language_info": {
   "codemirror_mode": {
    "name": "ipython",
    "version": 3
   },
   "file_extension": ".py",
   "mimetype": "text/x-python",
   "name": "python",
   "nbconvert_exporter": "python",
   "pygments_lexer": "ipython3",
   "version": "3.8.8"
  },
  "vscode": {
   "interpreter": {
    "hash": "d3503761bcfca8a35b206c120347a79b8f357a240799dbb2d56df951ee782c70"
   }
  }
 },
 "nbformat": 4,
 "nbformat_minor": 5
}
